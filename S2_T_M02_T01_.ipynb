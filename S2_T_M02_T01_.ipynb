{
 "cells": [
  {
   "cell_type": "markdown",
   "id": "f2d7f80b",
   "metadata": {},
   "source": [
    "# Sprint 2"
   ]
  },
  {
   "cell_type": "markdown",
   "id": "02af338e",
   "metadata": {},
   "source": [
    "# Tasca M2 T01"
   ]
  },
  {
   "cell_type": "markdown",
   "id": "a39fb41e",
   "metadata": {},
   "source": [
    "## Ejercicio 1"
   ]
  },
  {
   "cell_type": "markdown",
   "id": "0f9873a7",
   "metadata": {},
   "source": [
    "### Crea una lista que agrrupe los meses del año en trimestres."
   ]
  },
  {
   "cell_type": "code",
   "execution_count": 1,
   "id": "f6837be6",
   "metadata": {},
   "outputs": [
    {
     "data": {
      "text/plain": [
       "{'1T': ['Enero', 'Febrero', 'Marzo'],\n",
       " '2T': ['Abril', 'Mayo', 'Junio'],\n",
       " '3T': ['Julio', 'Agosto', 'Septiembre'],\n",
       " '4T': ['Octubre', 'Noviembre', 'Diciembre']}"
      ]
     },
     "execution_count": 1,
     "metadata": {},
     "output_type": "execute_result"
    }
   ],
   "source": [
    "trimestres =  {'1T':['Enero', 'Febrero', 'Marzo'],\n",
    "          '2T':['Abril', 'Mayo', 'Junio'], \n",
    "          '3T':['Julio', 'Agosto', 'Septiembre'],\n",
    "          '4T':['Octubre', 'Noviembre', 'Diciembre']}\n",
    "\n",
    "trimestres"
   ]
  },
  {
   "cell_type": "markdown",
   "id": "c3ffc0a5",
   "metadata": {},
   "source": [
    "## Ejercicio 2"
   ]
  },
  {
   "cell_type": "markdown",
   "id": "d8a86d54",
   "metadata": {},
   "source": [
    "### Crea un codigo que te permita acceder a:"
   ]
  },
  {
   "cell_type": "markdown",
   "id": "b1861c1b",
   "metadata": {},
   "source": [
    "#### El segundo mes del primer trimestre."
   ]
  },
  {
   "cell_type": "code",
   "execution_count": null,
   "id": "4dcdf3ad",
   "metadata": {
    "hide_input": true
   },
   "outputs": [],
   "source": []
  },
  {
   "cell_type": "code",
   "execution_count": 2,
   "id": "17faab74",
   "metadata": {},
   "outputs": [
    {
     "name": "stdout",
     "output_type": "stream",
     "text": [
      "Febrero\n"
     ]
    }
   ],
   "source": [
    "print(trimestres['1T'][1])"
   ]
  },
  {
   "cell_type": "markdown",
   "id": "c9a24a31",
   "metadata": {},
   "source": [
    "#### Los meses del primer trimestre."
   ]
  },
  {
   "cell_type": "code",
   "execution_count": 3,
   "id": "ba6aba7b",
   "metadata": {},
   "outputs": [
    {
     "name": "stdout",
     "output_type": "stream",
     "text": [
      "['Enero', 'Febrero', 'Marzo']\n"
     ]
    }
   ],
   "source": [
    "print(trimestres['1T'])"
   ]
  },
  {
   "cell_type": "markdown",
   "id": "facdc05b",
   "metadata": {},
   "source": [
    "#### Septiembre y Octubre"
   ]
  },
  {
   "cell_type": "code",
   "execution_count": 4,
   "id": "f0812974",
   "metadata": {},
   "outputs": [
    {
     "name": "stdout",
     "output_type": "stream",
     "text": [
      "Septiembre , Octubre\n"
     ]
    }
   ],
   "source": [
    "print(trimestres['3T'][2],',', trimestres['4T'][0])"
   ]
  },
  {
   "cell_type": "markdown",
   "id": "f763e9c0",
   "metadata": {},
   "source": [
    "## Ejercicio 3"
   ]
  },
  {
   "cell_type": "markdown",
   "id": "eb625d4c",
   "metadata": {},
   "source": [
    "### Crea una lista con números desordenados."
   ]
  },
  {
   "cell_type": "code",
   "execution_count": 5,
   "id": "d3c77624",
   "metadata": {},
   "outputs": [
    {
     "name": "stdout",
     "output_type": "stream",
     "text": [
      "[37, 31, 47, 41, 13, 21, 9, 16, 49, 34]\n"
     ]
    }
   ],
   "source": [
    "import random\n",
    "\n",
    "lista_num = random.sample(range(1,50), 10)\n",
    "\n",
    "print(lista_num)"
   ]
  },
  {
   "cell_type": "markdown",
   "id": "7d7198cb",
   "metadata": {},
   "source": [
    "### Responde las siguientes preguntas:"
   ]
  },
  {
   "cell_type": "markdown",
   "id": "047cc02a",
   "metadata": {},
   "source": [
    "#### 1. ¿Cuántos números hay?"
   ]
  },
  {
   "cell_type": "code",
   "execution_count": 6,
   "id": "10e668a6",
   "metadata": {},
   "outputs": [
    {
     "name": "stdout",
     "output_type": "stream",
     "text": [
      "10\n"
     ]
    }
   ],
   "source": [
    "cantidad_numeros = len(lista_num)\n",
    "print(cantidad_numeros)"
   ]
  },
  {
   "cell_type": "markdown",
   "id": "62c32225",
   "metadata": {},
   "source": [
    "#### 2. ¿Cuántas veces aparece el número 3?"
   ]
  },
  {
   "cell_type": "code",
   "execution_count": 7,
   "id": "af64d1a6",
   "metadata": {},
   "outputs": [
    {
     "name": "stdout",
     "output_type": "stream",
     "text": [
      "El número 3 aparece 0 veces en la lista.\n"
     ]
    }
   ],
   "source": [
    "num_3 = lista_num.count(3)\n",
    "print ('El número 3 aparece', num_3, 'veces en la lista.')"
   ]
  },
  {
   "cell_type": "markdown",
   "id": "48ab21a7",
   "metadata": {},
   "source": [
    "#### 3. ¿Cuantas veces aparecen los números 3 y 4?"
   ]
  },
  {
   "cell_type": "code",
   "execution_count": 8,
   "id": "6fe70057",
   "metadata": {},
   "outputs": [
    {
     "name": "stdout",
     "output_type": "stream",
     "text": [
      "Ni el 3, ni el 4 aparecen en la lista.\n"
     ]
    }
   ],
   "source": [
    "num_3 = lista_num.count(3)\n",
    "num_4 = lista_num.count(4)\n",
    "\n",
    "if num_3:\n",
    "    print('El número 3 aparece', num_3, 'veces en la lista.')\n",
    "elif num_4:\n",
    "    print('El número 4 aparece', num_4, 'veces en la lista.')\n",
    "else:\n",
    "     print('Ni el 3, ni el 4 aparecen en la lista.')"
   ]
  },
  {
   "cell_type": "markdown",
   "id": "117553bc",
   "metadata": {},
   "source": [
    "#### 4. ¿Cuál es el número más alto?"
   ]
  },
  {
   "cell_type": "code",
   "execution_count": 9,
   "id": "838a8c4e",
   "metadata": {},
   "outputs": [
    {
     "name": "stdout",
     "output_type": "stream",
     "text": [
      "49\n"
     ]
    }
   ],
   "source": [
    "num_max = max(lista_num)\n",
    "print(num_max)"
   ]
  },
  {
   "cell_type": "markdown",
   "id": "e7291426",
   "metadata": {},
   "source": [
    "#### 5.¿Cuales son los tres números más pequeños?"
   ]
  },
  {
   "cell_type": "code",
   "execution_count": 10,
   "id": "f746c743",
   "metadata": {},
   "outputs": [
    {
     "name": "stdout",
     "output_type": "stream",
     "text": [
      "[9, 13, 16]\n"
     ]
    }
   ],
   "source": [
    "numeros_min = sorted(lista_num)\n",
    "print(numeros_min[0:3])"
   ]
  },
  {
   "cell_type": "markdown",
   "id": "a5911fc7",
   "metadata": {},
   "source": [
    "#### 6.¿Cuál es el rango de esta lista?"
   ]
  },
  {
   "cell_type": "code",
   "execution_count": 11,
   "id": "750a5bd4",
   "metadata": {},
   "outputs": [
    {
     "name": "stdout",
     "output_type": "stream",
     "text": [
      "3\n"
     ]
    }
   ],
   "source": [
    "for num in lista_num:\n",
    "    maximo = lista_num[0]\n",
    "    minimo = lista_num[0]\n",
    "    if num < minimo:\n",
    "        minimo = num\n",
    "    if num > maximo:\n",
    "        maximo = num\n",
    "\n",
    "rango = maximo - minimo\n",
    "        \n",
    "print(rango)"
   ]
  },
  {
   "cell_type": "markdown",
   "id": "d87b9f0a",
   "metadata": {},
   "source": [
    "## Ejercicio 4"
   ]
  },
  {
   "cell_type": "markdown",
   "id": "11e8ce52",
   "metadata": {},
   "source": [
    "### Crea un diccionario."
   ]
  },
  {
   "cell_type": "code",
   "execution_count": 12,
   "id": "17469493",
   "metadata": {},
   "outputs": [],
   "source": [
    "compra = { \"Pomes\" : {\"Qty\": 5, \"€\": 0.42}, \n",
    "          \"Peres\" : {\"Qty\": 3, \"€\": 0.66} }"
   ]
  },
  {
   "cell_type": "markdown",
   "id": "f398ab08",
   "metadata": {},
   "source": [
    "### Responde las siguientes preguntas"
   ]
  },
  {
   "cell_type": "markdown",
   "id": "0bfd9494",
   "metadata": {},
   "source": [
    "#### Añade alguna fruta más"
   ]
  },
  {
   "cell_type": "code",
   "execution_count": 13,
   "id": "6805fb42",
   "metadata": {},
   "outputs": [
    {
     "name": "stdout",
     "output_type": "stream",
     "text": [
      "{'Pomes': {'Qty': 5, '€': 0.42}, 'Peres': {'Qty': 3, '€': 0.66}, 'Toronjes': {'Qty': 8, '€': 0.23}}\n"
     ]
    }
   ],
   "source": [
    "compra[\"Toronjes\"] = {'Qty': 8, '€': 0.23}\n",
    "print(compra)"
   ]
  },
  {
   "cell_type": "markdown",
   "id": "83ab4e79",
   "metadata": {},
   "source": [
    "#### ¿Cuánto han costado las peras en total?"
   ]
  },
  {
   "cell_type": "code",
   "execution_count": 14,
   "id": "899b7578",
   "metadata": {},
   "outputs": [
    {
     "name": "stdout",
     "output_type": "stream",
     "text": [
      "1.98\n"
     ]
    }
   ],
   "source": [
    "def calcular_precio (compra, fruta):\n",
    "    return compra[fruta]['Qty'] * compra[fruta]['€']\n",
    "\n",
    "Precio_total = calcular_precio(compra,'Peres')\n",
    "print(Precio_total)"
   ]
  },
  {
   "cell_type": "markdown",
   "id": "6add4cb1",
   "metadata": {},
   "source": [
    "#### ¿Cuántas frutas hemos comprado en total?"
   ]
  },
  {
   "cell_type": "code",
   "execution_count": 15,
   "id": "7d04ec04",
   "metadata": {},
   "outputs": [
    {
     "name": "stdout",
     "output_type": "stream",
     "text": [
      "16\n"
     ]
    }
   ],
   "source": [
    "def calcular_total_frutas (compra):\n",
    "    total = 0\n",
    "    for fruta in compra:\n",
    "        total += compra[fruta]['Qty']\n",
    "    return total\n",
    "   \n",
    "\n",
    "print(calcular_total_frutas(compra))\n",
    "    \n",
    "    "
   ]
  },
  {
   "cell_type": "markdown",
   "id": "81ce2073",
   "metadata": {},
   "source": [
    "#### ¿Cuál es la fruta más cara?"
   ]
  },
  {
   "cell_type": "code",
   "execution_count": 16,
   "id": "2e48553a",
   "metadata": {},
   "outputs": [
    {
     "name": "stdout",
     "output_type": "stream",
     "text": [
      "Peres\n"
     ]
    }
   ],
   "source": [
    "def fruta_mas_cara(compra):\n",
    "    fruta_cara= max(compra, key= lambda f: compra[f]['€'])\n",
    "    return fruta_cara\n",
    "    \n",
    "fruta_cara = fruta_mas_cara(compra)\n",
    "print (fruta_cara)"
   ]
  },
  {
   "cell_type": "markdown",
   "id": "01c6ea30",
   "metadata": {},
   "source": [
    "# FIN"
   ]
  }
 ],
 "metadata": {
  "hide_input": false,
  "kernelspec": {
   "display_name": "Python 3 (ipykernel)",
   "language": "python",
   "name": "python3"
  },
  "language_info": {
   "codemirror_mode": {
    "name": "ipython",
    "version": 3
   },
   "file_extension": ".py",
   "mimetype": "text/x-python",
   "name": "python",
   "nbconvert_exporter": "python",
   "pygments_lexer": "ipython3",
   "version": "3.9.13"
  }
 },
 "nbformat": 4,
 "nbformat_minor": 5
}
